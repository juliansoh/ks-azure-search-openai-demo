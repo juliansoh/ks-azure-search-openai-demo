{
 "cells": [
  {
   "cell_type": "code",
   "execution_count": 14,
   "metadata": {},
   "outputs": [
    {
     "name": "stdout",
     "output_type": "stream",
     "text": [
      "JSON files have been split successfully.\n"
     ]
    }
   ],
   "source": [
    "import json\n",
    "\n",
    "# Load the JSON file\n",
    "with open('data\\KinderTrack TX.json', 'r') as file:\n",
    "    data = json.load(file)\n",
    "\n",
    "# Number of chunks\n",
    "num_chunks = 10\n",
    "\n",
    "# Determine the size of each chunk\n",
    "total_elements = len(data)\n",
    "chunk_size = total_elements // num_chunks\n",
    "remainder = total_elements % num_chunks\n",
    "\n",
    "chunks = []\n",
    "start = 0\n",
    "\n",
    "# Split the data into chunks\n",
    "for i in range(num_chunks):\n",
    "    end = start + chunk_size + (1 if i < remainder else 0)\n",
    "    chunk = data[start:end]\n",
    "    chunks.append(chunk)\n",
    "    start = end\n",
    "\n",
    "# Save each chunk as a separate JSON file\n",
    "for i, chunk in enumerate(chunks):\n",
    "    with open(f'data\\KinderTrack TX_chunk_{i+1}.json', 'w') as chunk_file:\n",
    "        json.dump(chunk, chunk_file, indent=4)\n",
    "\n",
    "print(\"Splitting completed and files saved.\")\n"
   ]
  }
 ],
 "metadata": {
  "kernelspec": {
   "display_name": ".venv",
   "language": "python",
   "name": "python3"
  },
  "language_info": {
   "codemirror_mode": {
    "name": "ipython",
    "version": 3
   },
   "file_extension": ".py",
   "mimetype": "text/x-python",
   "name": "python",
   "nbconvert_exporter": "python",
   "pygments_lexer": "ipython3",
   "version": "3.11.7"
  }
 },
 "nbformat": 4,
 "nbformat_minor": 2
}
